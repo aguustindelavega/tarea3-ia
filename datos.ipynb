{
 "cells": [
  {
   "cell_type": "markdown",
   "metadata": {},
   "source": [
    "# Tarea 3 Inteligencia artificial\n",
    "---\n",
    "Esta tarea tiene como objetivo es entender conceptos y técnicas básicas de procesamiento de lenguaje natural utilizando representaciones basadas en embeddings."
   ]
  },
  {
   "cell_type": "code",
   "execution_count": 15,
   "metadata": {},
   "outputs": [],
   "source": [
    "import pandas as pd\n",
    "import nltk\n",
    "from nltk.corpus import stopwords\n",
    "import spacy\n",
    "import re"
   ]
  },
  {
   "cell_type": "markdown",
   "metadata": {},
   "source": [
    "**1 Cargar datos**"
   ]
  },
  {
   "cell_type": "code",
   "execution_count": 8,
   "metadata": {},
   "outputs": [],
   "source": [
    "archivo = './Corpus-Agro.xlsx'\n",
    "df = pd.read_excel(archivo)"
   ]
  },
  {
   "cell_type": "code",
   "execution_count": 14,
   "metadata": {},
   "outputs": [
    {
     "name": "stdout",
     "output_type": "stream",
     "text": [
      "Primeros resumenes de la lista corpus:  ['This Decree provides for the functions, tasks, powers and organizational structure of the Ministry of Agriculture and Rural Development. The Ministry of Agricultural and Rural Development is a governmental agency which shall perform function of state management in the domains of agriculture, plant protection, animal health, food quality, forestry, salt-making, fisheries, irrigation, rural development, etc. Tasks and powers of the Ministry are specified in the text. ', 'This Decision approves the Scheme on the development of agricultural and forest plant varieties, livestock breeds and aquatic strains. The main objective of the Scheme is to raise the capacity of the system of research, selection, creation, transfer, production and supply of cultivation plant varieties, livestock breeds, forest tree varieties and aquatic strains in order to rapidly raise the yield, quality, competitiveness and effectiveness of agricultural production, forestry and fisheries. The Decision further provides for tasks, solutions and plans of action to meet the aforementioned objective and specifies the institutions responsible for their implementation. ', 'This Regional Act sets out the legislative framework governing agriculture, forests, fisheries and rural development in Lombardia. The Act aims at the development of rural areas and the promotion of agricultural activities, with particular regard to agroforestry and sylvo-pastoralism. To this end it provides for the allocation of subsidies and envisages interventions. Specific provisions concern the setting up of a computerized register on agricultural enterprises, the legal recognition of producers’ organizations, the arrangement of an integrated service to support and assist agricultural enterprises through capacity building interventions. As regards forestry, the Act provides for the drawing up of a regional inventory on forest resources and the regional forest map. Provisions on the organization and functioning of the phitosanitary protection service are laid down as well. ', 'This Regulation amends various provisions of the Regulation on the implementation of the capital investment in agriculture, fisheries and forestry (Official Gazette 66/2008). Major changes are related to the general terms and definitions, administrative and technical requirements, and other financial provisions applied on the incentives. ', 'This Law is enacted for the purposes of guaranteeing agricultural product quality and safety, maintaining the health of the general public, and promoting the development of agriculture and rural economy. Agricultural products referred to in the Law means the primary products sourced from planting, forestry, animal husbandry and fishery, i.e., the plants, animals, microorganisms and their products obtained in the course of agricultural activities. The Law covers the quality and safety standards, the origin, production, labeling, supervision and inspection of agricultural products. It provides for establishing and improving the national agricultural product safety and quality standards and monitoring system.   According to the Law, the national agricultural product safety and quality standards are compulsory technical standards, which shall be formulated in full consideration of the results of the agricultural product safety and quality risk assessment.  The agriculture administrative department under the State Council shall establish a commission of specialists for risk assessment of the quality and safety of agricultural products. Producing, fishing for or collecting edible agricultural products, or establishing production bases of agricultural products, in areas where the amount of toxic and harmful substances exceeds the prescribed standards, is prohibited. An administrative permission system shall be applied to such pesticides, veterinary medicine, feed and feed additives, fertilizers and veterinary instruments as may impair the quality and safety of agricultural products. The Law stipulates requirements for packaging and labeling, including packaging material, GMO Labels, animal and plant quarantine qualification labels and certification, and labels for pollution-free agricultural products. Regarding to the supervision and inspection, it sets out market access conditions on quality and safety of agricultural products, monitoring system, inspection agency qualifications, social supervision and spot checks, accident reports, tracing back on responsibilities, the inspection requirements on the quality and safety of imported agricultural products. The Law further provides for legal liabilities. ']\n"
     ]
    }
   ],
   "source": [
    "# Extraer las columnas de \"resumen\"\n",
    "corpus = df['Resumen'].dropna().tolist()\n",
    "print(\"Primeros resumenes de la lista corpus: \", corpus[:5])"
   ]
  },
  {
   "cell_type": "markdown",
   "metadata": {},
   "source": [
    "**Limpieza del corpus**"
   ]
  },
  {
   "cell_type": "code",
   "execution_count": null,
   "metadata": {},
   "outputs": [],
   "source": [
    "nltk.download('stopwords')\n",
    "stop_words = set(stopwords.words('spanish'))\n",
    "\n",
    "# cargar modelo en español\n",
    "nlp = spacy.load('es_core_news_sm')\n",
    "\n",
    "def procesar_texto(texto):\n",
    "  texto = texto.lower()\n",
    "  "
   ]
  }
 ],
 "metadata": {
  "kernelspec": {
   "display_name": "env-tarea3-ia",
   "language": "python",
   "name": "python3"
  },
  "language_info": {
   "codemirror_mode": {
    "name": "ipython",
    "version": 3
   },
   "file_extension": ".py",
   "mimetype": "text/x-python",
   "name": "python",
   "nbconvert_exporter": "python",
   "pygments_lexer": "ipython3",
   "version": "3.12.2"
  }
 },
 "nbformat": 4,
 "nbformat_minor": 2
}
